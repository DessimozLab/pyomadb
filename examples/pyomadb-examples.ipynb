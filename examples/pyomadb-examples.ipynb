{
 "cells": [
  {
   "cell_type": "markdown",
   "metadata": {},
   "source": [
    "# PyOMADB Examples\n",
    "-- Alex Warwick Vesztrocy, December 2018\n",
    "\n",
    "This notebook shows the examples from the paper, as written by Klara Kaleb, using the Python library PyOMADB instead of the OMADB R package."
   ]
  },
  {
   "cell_type": "markdown",
   "metadata": {},
   "source": [
    "The PyOMADB package can be installed from the PyPI -- as `omadb`."
   ]
  },
  {
   "cell_type": "code",
   "execution_count": 1,
   "metadata": {
    "scrolled": true
   },
   "outputs": [
    {
     "name": "stdout",
     "output_type": "stream",
     "text": [
      "Collecting omadb\n",
      "  Using cached https://files.pythonhosted.org/packages/9b/f8/13a720ccf2f5ecf8966c9dbab50674338ae96cecfb188f3d2a585785d68e/omadb-1.0.10-py3-none-any.whl\n",
      "Requirement already satisfied: appdirs in /usr/local/miniconda3/lib/python3.6/site-packages (from omadb)\n",
      "Requirement already satisfied: property-manager in /usr/local/miniconda3/lib/python3.6/site-packages (from omadb)\n",
      "Requirement already satisfied: requests in /usr/local/miniconda3/lib/python3.6/site-packages (from omadb)\n",
      "Requirement already satisfied: requests-cache in /usr/local/miniconda3/lib/python3.6/site-packages (from omadb)\n",
      "Requirement already satisfied: tqdm in /usr/local/miniconda3/lib/python3.6/site-packages (from omadb)\n",
      "Requirement already satisfied: pprint in /usr/local/miniconda3/lib/python3.6/site-packages (from omadb)\n",
      "Requirement already satisfied: pandas in /usr/local/miniconda3/lib/python3.6/site-packages (from omadb)\n",
      "Requirement already satisfied: verboselogs>=1.1 in /usr/local/miniconda3/lib/python3.6/site-packages (from property-manager->omadb)\n",
      "Requirement already satisfied: humanfriendly>=1.44.7 in /usr/local/miniconda3/lib/python3.6/site-packages (from property-manager->omadb)\n",
      "Requirement already satisfied: chardet<3.1.0,>=3.0.2 in /usr/local/miniconda3/lib/python3.6/site-packages (from requests->omadb)\n",
      "Requirement already satisfied: idna<2.7,>=2.5 in /usr/local/miniconda3/lib/python3.6/site-packages (from requests->omadb)\n",
      "Requirement already satisfied: urllib3<1.23,>=1.21.1 in /usr/local/miniconda3/lib/python3.6/site-packages (from requests->omadb)\n",
      "Requirement already satisfied: certifi>=2017.4.17 in /usr/local/miniconda3/lib/python3.6/site-packages (from requests->omadb)\n",
      "Requirement already satisfied: python-dateutil>=2 in /usr/local/miniconda3/lib/python3.6/site-packages (from pandas->omadb)\n",
      "Requirement already satisfied: pytz>=2011k in /usr/local/miniconda3/lib/python3.6/site-packages (from pandas->omadb)\n",
      "Requirement already satisfied: numpy>=1.9.0 in /usr/local/miniconda3/lib/python3.6/site-packages (from pandas->omadb)\n",
      "Requirement already satisfied: six>=1.5 in /usr/local/miniconda3/lib/python3.6/site-packages (from python-dateutil>=2->pandas->omadb)\n",
      "Installing collected packages: omadb\n",
      "Successfully installed omadb-1.0.10\n",
      "\u001b[33mYou are using pip version 9.0.1, however version 18.1 is available.\n",
      "You should consider upgrading via the 'pip install --upgrade pip' command.\u001b[0m\n"
     ]
    }
   ],
   "source": [
    "!pip install omadb"
   ]
  },
  {
   "cell_type": "markdown",
   "metadata": {},
   "source": [
    "Now that the package is installed, we can load it."
   ]
  },
  {
   "cell_type": "code",
   "execution_count": 2,
   "metadata": {},
   "outputs": [],
   "source": [
    "from omadb import Client"
   ]
  },
  {
   "cell_type": "markdown",
   "metadata": {},
   "source": [
    "Then the client can be initialised as such:"
   ]
  },
  {
   "cell_type": "code",
   "execution_count": 3,
   "metadata": {},
   "outputs": [],
   "source": [
    "c = Client()"
   ]
  },
  {
   "cell_type": "markdown",
   "metadata": {},
   "source": [
    "Note: by default, the client will cache 10,000 `GET` requests in memory. If you wish to raise this, or lower it, this needs to be done prior to initialisation of the client by altering `Client.RAMCACHE_SIZE`."
   ]
  },
  {
   "cell_type": "code",
   "execution_count": 4,
   "metadata": {},
   "outputs": [
    {
     "data": {
      "text/plain": [
       "10000"
      ]
     },
     "execution_count": 4,
     "metadata": {},
     "output_type": "execute_result"
    }
   ],
   "source": [
    "Client.RAMCACHE_SIZE"
   ]
  },
  {
   "cell_type": "markdown",
   "metadata": {},
   "source": [
    "---"
   ]
  },
  {
   "cell_type": "markdown",
   "metadata": {},
   "source": [
    "## Example 1 -- Retrieving single protein entries"
   ]
  },
  {
   "cell_type": "code",
   "execution_count": 5,
   "metadata": {},
   "outputs": [],
   "source": [
    "prot_id = 'P53_RAT'\n",
    "\n",
    "r = c.proteins[prot_id]  # Can also be called as c.proteins.info(prot_id)"
   ]
  },
  {
   "cell_type": "code",
   "execution_count": 6,
   "metadata": {
    "scrolled": true
   },
   "outputs": [
    {
     "data": {
      "text/plain": [
       "{'alternative_isoforms_urls': [],\n",
       " 'canonicalid': 'P53_RAT',\n",
       " 'cdna': 'ATGGAGGATTCACAGTCGGATATGAGCATCGAGCTCCCTCTGAGTCAGGAGACATTTTCATGCTTATGGAAACTTCTTCCTCCAGATGATATTCTGCCCACCACAGCGACAGGGTCACCTAATTCCATGGAAGATCTGTTCCTGCCCCAGGATGTTGCAGAGTTGTTAGAAGGCCCAGAGGAAGCCCTCCAAGTGTCAGCTCCTGCAGCACAGGAACCTGGAACTGAGGCCCCTGCACCCGTGGCCCCTGCTTCAGCTACACCGTGGCCTCTGTCATCTTCCGTCCCTTCTCAAAAAACTTACCAAGGCAACTATGGCTTCCACCTGGGCTTCCTGCAGTCAGGGACAGCCAAGTCTGTTATGTGCACGTACTCAATTTCCCTCAATAAGCTGTTCTGCCAGCTGGCGAAGACATGCCCTGTGCAGTTGTGGGTCACCTCCACACCTCCACCTGGTACCCGTGTCCGTGCCATGGCCATCTACAAGAAGTCACAACACATGACTGAGGTCGTGAGACGCTGCCCCCACCATGAGCGTTGCTCTGATGGTGACGGCCTGGCTCCTCCCCAACATCTTATCCGGGTGGAAGGAAATCCGTATGCTGAGTATCTGGACGACAGGCAGACTTTTCGGCACAGCGTGGTGGTACCGTATGAGCCACCTGAGGTCGGCTCCGACTATACCACTATCCACTACAAGTACATGTGCAACAGCTCCTGCATGGGGGGCATGAACCGCCGGCCCATCCTTACCATCATCACGCTGGAAGACTCCAGTGGGAATCTTCTGGGACGGGACAGCTTTGAGGTTCGTGTTTGTGCCTGTCCTGGGAGAGACCGTCGGACAGAGGAAGAAAATTTCCGCAAAAAAGAAGAGCATTGCCCGGAGCTGCCCCCAGGGAGTGCAAAGAGAGCACTGCCCACCAGCACAAGCTCCTCTCCCCAGCAAAAGAAAAAACCACTCGATGGAGAATATTTCACCCTTAAGATCCGTGGGCGTGAGCGCTTCGAGATGTTCCGAGAGCTGAATGAGGCCTTGGAATTAAAGGATGCCCGTGCTGCCGAGGAGTCAGGAGACAGCAGGGCTCACTCCAGCTACCCGAAGACCAAGAAGGGCCAGTCTACGTCCCGCCATAAAAAACCAATGATCAAGAAAGTGGGGCCTGACTCAGACTGA',\n",
       " 'chromosome': '10',\n",
       " 'domains': <API Request /protein/7916807/domains/>,\n",
       " 'entry_nr': 7916807,\n",
       " 'entry_url': <API Request /protein/7916807/>,\n",
       " 'hog_levels': ['Murinae',\n",
       "                'Muroidea',\n",
       "                'Myomorpha',\n",
       "                'Rodentia',\n",
       "                'Glires',\n",
       "                'Euarchontoglires',\n",
       "                'Boreoeutheria',\n",
       "                'Eutheria',\n",
       "                'Theria',\n",
       "                'Mammalia',\n",
       "                'Amniota',\n",
       "                'Tetrapoda',\n",
       "                'Sarcopterygii',\n",
       "                'Euteleostomi',\n",
       "                'Vertebrata',\n",
       "                'Chordata'],\n",
       " 'homoeologs': None,\n",
       " 'is_main_isoform': True,\n",
       " 'locus': {'end': 56198000, 'start': 56193866, 'strand': 1},\n",
       " 'oma_group': 789321,\n",
       " 'oma_group_url': <API Request /group/789321/>,\n",
       " 'oma_hog_id': 'HOG:0372238.2a.2a.2b',\n",
       " 'oma_hog_members': <API Request /hog/HOG:0372238.2a.2a.2b/members/>,\n",
       " 'omaid': 'RATNO03710',\n",
       " 'ontology': <API Request /protein/7916807/ontology/>,\n",
       " 'orthologs': <API Request /protein/7916807/orthologs/>,\n",
       " 'roothog_id': 372238,\n",
       " 'sequence': 'MEDSQSDMSIELPLSQETFSCLWKLLPPDDILPTTATGSPNSMEDLFLPQDVAELLEGPEEALQVSAPAAQEPGTEAPAPVAPASATPWPLSSSVPSQKTYQGNYGFHLGFLQSGTAKSVMCTYSISLNKLFCQLAKTCPVQLWVTSTPPPGTRVRAMAIYKKSQHMTEVVRRCPHHERCSDGDGLAPPQHLIRVEGNPYAEYLDDRQTFRHSVVVPYEPPEVGSDYTTIHYKYMCNSSCMGGMNRRPILTIITLEDSSGNLLGRDSFEVRVCACPGRDRRTEEENFRKKEEHCPELPPGSAKRALPTSTSSSPQQKKKPLDGEYFTLKIRGRERFEMFRELNEALELKDARAAEESGDSRAHSSYPKTKKGQSTSRHKKPMIKKVGPDSD',\n",
       " 'sequence_length': 391,\n",
       " 'sequence_md5': '6b5c5b7576ed037be819e56589e00c53',\n",
       " 'xref': <API Request /protein/7916807/xref/>}"
      ]
     },
     "execution_count": 6,
     "metadata": {},
     "output_type": "execute_result"
    }
   ],
   "source": [
    "r"
   ]
  },
  {
   "cell_type": "markdown",
   "metadata": {},
   "source": [
    "It is then possible to access any of the information on this protein entry, by using attribute or key retrieval. For example,"
   ]
  },
  {
   "cell_type": "code",
   "execution_count": 7,
   "metadata": {
    "scrolled": true
   },
   "outputs": [
    {
     "data": {
      "text/plain": [
       "'ATGGAGGATTCACAGTCGGATATGAGCATCGAGCTCCCTCTGAGTCAGGAGACATTTTCATGCTTATGGAAACTTCTTCCTCCAGATGATATTCTGCCCACCACAGCGACAGGGTCACCTAATTCCATGGAAGATCTGTTCCTGCCCCAGGATGTTGCAGAGTTGTTAGAAGGCCCAGAGGAAGCCCTCCAAGTGTCAGCTCCTGCAGCACAGGAACCTGGAACTGAGGCCCCTGCACCCGTGGCCCCTGCTTCAGCTACACCGTGGCCTCTGTCATCTTCCGTCCCTTCTCAAAAAACTTACCAAGGCAACTATGGCTTCCACCTGGGCTTCCTGCAGTCAGGGACAGCCAAGTCTGTTATGTGCACGTACTCAATTTCCCTCAATAAGCTGTTCTGCCAGCTGGCGAAGACATGCCCTGTGCAGTTGTGGGTCACCTCCACACCTCCACCTGGTACCCGTGTCCGTGCCATGGCCATCTACAAGAAGTCACAACACATGACTGAGGTCGTGAGACGCTGCCCCCACCATGAGCGTTGCTCTGATGGTGACGGCCTGGCTCCTCCCCAACATCTTATCCGGGTGGAAGGAAATCCGTATGCTGAGTATCTGGACGACAGGCAGACTTTTCGGCACAGCGTGGTGGTACCGTATGAGCCACCTGAGGTCGGCTCCGACTATACCACTATCCACTACAAGTACATGTGCAACAGCTCCTGCATGGGGGGCATGAACCGCCGGCCCATCCTTACCATCATCACGCTGGAAGACTCCAGTGGGAATCTTCTGGGACGGGACAGCTTTGAGGTTCGTGTTTGTGCCTGTCCTGGGAGAGACCGTCGGACAGAGGAAGAAAATTTCCGCAAAAAAGAAGAGCATTGCCCGGAGCTGCCCCCAGGGAGTGCAAAGAGAGCACTGCCCACCAGCACAAGCTCCTCTCCCCAGCAAAAGAAAAAACCACTCGATGGAGAATATTTCACCCTTAAGATCCGTGGGCGTGAGCGCTTCGAGATGTTCCGAGAGCTGAATGAGGCCTTGGAATTAAAGGATGCCCGTGCTGCCGAGGAGTCAGGAGACAGCAGGGCTCACTCCAGCTACCCGAAGACCAAGAAGGGCCAGTCTACGTCCCGCCATAAAAAACCAATGATCAAGAAAGTGGGGCCTGACTCAGACTGA'"
      ]
     },
     "execution_count": 7,
     "metadata": {},
     "output_type": "execute_result"
    }
   ],
   "source": [
    "r.cdna"
   ]
  },
  {
   "cell_type": "code",
   "execution_count": 8,
   "metadata": {
    "scrolled": true
   },
   "outputs": [
    {
     "data": {
      "text/plain": [
       "'ATGGAGGATTCACAGTCGGATATGAGCATCGAGCTCCCTCTGAGTCAGGAGACATTTTCATGCTTATGGAAACTTCTTCCTCCAGATGATATTCTGCCCACCACAGCGACAGGGTCACCTAATTCCATGGAAGATCTGTTCCTGCCCCAGGATGTTGCAGAGTTGTTAGAAGGCCCAGAGGAAGCCCTCCAAGTGTCAGCTCCTGCAGCACAGGAACCTGGAACTGAGGCCCCTGCACCCGTGGCCCCTGCTTCAGCTACACCGTGGCCTCTGTCATCTTCCGTCCCTTCTCAAAAAACTTACCAAGGCAACTATGGCTTCCACCTGGGCTTCCTGCAGTCAGGGACAGCCAAGTCTGTTATGTGCACGTACTCAATTTCCCTCAATAAGCTGTTCTGCCAGCTGGCGAAGACATGCCCTGTGCAGTTGTGGGTCACCTCCACACCTCCACCTGGTACCCGTGTCCGTGCCATGGCCATCTACAAGAAGTCACAACACATGACTGAGGTCGTGAGACGCTGCCCCCACCATGAGCGTTGCTCTGATGGTGACGGCCTGGCTCCTCCCCAACATCTTATCCGGGTGGAAGGAAATCCGTATGCTGAGTATCTGGACGACAGGCAGACTTTTCGGCACAGCGTGGTGGTACCGTATGAGCCACCTGAGGTCGGCTCCGACTATACCACTATCCACTACAAGTACATGTGCAACAGCTCCTGCATGGGGGGCATGAACCGCCGGCCCATCCTTACCATCATCACGCTGGAAGACTCCAGTGGGAATCTTCTGGGACGGGACAGCTTTGAGGTTCGTGTTTGTGCCTGTCCTGGGAGAGACCGTCGGACAGAGGAAGAAAATTTCCGCAAAAAAGAAGAGCATTGCCCGGAGCTGCCCCCAGGGAGTGCAAAGAGAGCACTGCCCACCAGCACAAGCTCCTCTCCCCAGCAAAAGAAAAAACCACTCGATGGAGAATATTTCACCCTTAAGATCCGTGGGCGTGAGCGCTTCGAGATGTTCCGAGAGCTGAATGAGGCCTTGGAATTAAAGGATGCCCGTGCTGCCGAGGAGTCAGGAGACAGCAGGGCTCACTCCAGCTACCCGAAGACCAAGAAGGGCCAGTCTACGTCCCGCCATAAAAAACCAATGATCAAGAAAGTGGGGCCTGACTCAGACTGA'"
      ]
     },
     "execution_count": 8,
     "metadata": {},
     "output_type": "execute_result"
    }
   ],
   "source": [
    "r['cdna']"
   ]
  },
  {
   "cell_type": "markdown",
   "metadata": {},
   "source": [
    "Information that requires another load from the database shows up as \"`<API Request ...>`\" in the representation of the result, above. If using dictionary-style access, these need to be called. For example, when accessing the orthologue information:"
   ]
  },
  {
   "cell_type": "code",
   "execution_count": 9,
   "metadata": {},
   "outputs": [],
   "source": [
    "orth = r['orthologs']()"
   ]
  },
  {
   "cell_type": "markdown",
   "metadata": {},
   "source": [
    "However, if accessing via attributes this is lazily loaded in the background:"
   ]
  },
  {
   "cell_type": "code",
   "execution_count": 10,
   "metadata": {},
   "outputs": [],
   "source": [
    "orth = r.orthologs"
   ]
  },
  {
   "cell_type": "markdown",
   "metadata": {},
   "source": [
    "---"
   ]
  },
  {
   "cell_type": "markdown",
   "metadata": {},
   "source": [
    "## Example 2 -- Sequence to HOG, to HOG Members, to GO Annotations"
   ]
  },
  {
   "cell_type": "markdown",
   "metadata": {},
   "source": [
    "The idea here is to find a HOG for a given protein sequence, through the mapping procedure provided by the OMA REST API. If we start with the following sequence,"
   ]
  },
  {
   "cell_type": "code",
   "execution_count": 11,
   "metadata": {},
   "outputs": [],
   "source": [
    "seq = 'MNDPSLLGYPNVGPQQQQQQQQQQHAGLLGKGTPNALQQQLHMNQLTGIPPPGLMNNSDVHTSSNNNSRQLLDQLANGNANMLNMNMDNNNNNNNNNNNNNNNGGGSGVMMNASTAAVNSIGMVPTVGTPVNINVNASNPLLHPHLDDPSLLNNPIWKLQLHLAAVSAQSLGQPNIYARQNAMKKYLATQQAQQAQQQAQQQAQQQVPGPFGPGPQAAPPALQPTDFQQSHIAEASKSLVDCTKQALMEMADTLTDSKTAKKQQPTGDSTPSGTATNSAVSTPLTPKIELFANGKDEANQALLQHKKLSQYSIDEDDDIENRMVMPKDSKYDDQLWHALDLSNLQIFNISANIFKYDFLTRLYLNGNSLTELPAEIKNLSNLRVLDLSHNRLTSLPAELGSCFQLKYFYFFDNMVTTLPWEFGNLCNLQFLGVEGNPLEKQFLKILTEKSVTGLIFYLRDNRPEIPLPHERRFIEINTDGEPQREYDSLQQSTEHLATDLAKRTFTVLSYNTLCQHYATPKMYRYTPSWALSWDYRRNKLKEQILSYDSDLLCLQEVESKTFEEYWVPLLDKHGYTGIFHAKARAKTMHSKDSKKVDGCCIFFKRDQFKLITKDAMDFSGAWMKHKKFQRTEDYLNRAMNKDNVALFLKLQHIPSGDTIWAVTTHLHWDPKFNDVKTFQVGVLLDHLETLLKEETSHNFRQDIKKFPVLICGDFNSYINSAVYELINTGRVQIHQEGNGRDFGYMSEKNFSHNLALKSSYNCIGELPFTNFTPSFTDVIDYIWFSTHALRVRGLLGEVDPEYVSKFIGFPNDKFPSDHIPLLARFEFMKTNTGSKKV'"
   ]
  },
  {
   "cell_type": "markdown",
   "metadata": {},
   "source": [
    "It is possible to map this to the an OMA protein entry using:"
   ]
  },
  {
   "cell_type": "code",
   "execution_count": 12,
   "metadata": {},
   "outputs": [],
   "source": [
    "r = c.proteins.search(seq)"
   ]
  },
  {
   "cell_type": "code",
   "execution_count": 13,
   "metadata": {
    "scrolled": true
   },
   "outputs": [
    {
     "data": {
      "text/plain": [
       "{'identified_by': 'exact match',\n",
       " 'query': 'MNDPSLLGYPNVGPQQQQQQQQQQHAGLLGKGTPNALQQQLHMNQLTGIPPPGLMNNSDVHTSSNNNSRQLLDQLANGNANMLNMNMDNNNNNNNNNNNNNNNGGGSGVMMNASTAAVNSIGMVPTVGTPVNINVNASNPLLHPHLDDPSLLNNPIWKLQLHLAAVSAQSLGQPNIYARQNAMKKYLATQQAQQAQQQAQQQAQQQVPGPFGPGPQAAPPALQPTDFQQSHIAEASKSLVDCTKQALMEMADTLTDSKTAKKQQPTGDSTPSGTATNSAVSTPLTPKIELFANGKDEANQALLQHKKLSQYSIDEDDDIENRMVMPKDSKYDDQLWHALDLSNLQIFNISANIFKYDFLTRLYLNGNSLTELPAEIKNLSNLRVLDLSHNRLTSLPAELGSCFQLKYFYFFDNMVTTLPWEFGNLCNLQFLGVEGNPLEKQFLKILTEKSVTGLIFYLRDNRPEIPLPHERRFIEINTDGEPQREYDSLQQSTEHLATDLAKRTFTVLSYNTLCQHYATPKMYRYTPSWALSWDYRRNKLKEQILSYDSDLLCLQEVESKTFEEYWVPLLDKHGYTGIFHAKARAKTMHSKDSKKVDGCCIFFKRDQFKLITKDAMDFSGAWMKHKKFQRTEDYLNRAMNKDNVALFLKLQHIPSGDTIWAVTTHLHWDPKFNDVKTFQVGVLLDHLETLLKEETSHNFRQDIKKFPVLICGDFNSYINSAVYELINTGRVQIHQEGNGRDFGYMSEKNFSHNLALKSSYNCIGELPFTNFTPSFTDVIDYIWFSTHALRVRGLLGEVDPEYVSKFIGFPNDKFPSDHIPLLARFEFMKTNTGSKKV',\n",
       " 'targets': [{'alternative_isoforms_urls': [],\n",
       " 'canonicalid': 'CCR4_YEAST',\n",
       " 'cdna': 'ATGAACGACCCTTCTTTACTAGGCTACCCTAATGTGGGCCCGCAGCAGCAACAGCAACAGCAGCAACAGCAGCATGCCGGGCTACTAGGAAAGGGTACACCAAACGCTCTACAGCAGCAGCTACACATGAACCAGCTCACCGGGATACCTCCACCGGGACTCATGAACAACAGCGATGTACACACTTCCAGCAACAACAACTCGCGCCAGTTGCTCGACCAATTGGCTAATGGGAACGCGAACATGCTCAATATGAACATGGATAACAACAATAACAACAATAACAACAACAACAACAACAACAACAACGGCGGTGGAAGCGGGGTGATGATGAATGCCTCCACAGCCGCAGTAAATTCTATAGGGATGGTTCCTACCGTTGGTACGCCTGTGAACATCAATGTGAACGCCAGTAACCCTTTATTACACCCGCACTTGGATGACCCTTCTTTACTAAACAATCCGATCTGGAAGCTTCAATTGCATCTGGCTGCAGTGTCCGCACAATCTCTGGGGCAACCCAACATTTATGCTAGACAAAACGCTATGAAGAAGTATTTGGCTACACAACAGGCTCAGCAAGCTCAGCAACAAGCGCAGCAACAGGCACAGCAGCAGGTCCCGGGCCCATTTGGCCCCGGACCTCAGGCTGCACCACCAGCTTTGCAGCCCACCGATTTCCAGCAATCTCACATTGCAGAAGCCTCCAAATCACTGGTAGACTGCACAAAGCAAGCCTTGATGGAAATGGCCGACACTCTCACCGACAGCAAGACAGCAAAGAAACAACAACCTACGGGAGATAGCACTCCCTCAGGCACGGCAACTAACAGTGCAGTTTCTACACCATTGACTCCCAAGATAGAGCTGTTTGCTAATGGCAAGGACGAAGCCAACCAGGCGCTCTTACAACACAAGAAACTGTCTCAGTACAGCATCGACGAAGATGACGACATTGAAAACAGAATGGTCATGCCCAAGGACTCGAAATACGACGACCAATTATGGCACGCGCTAGATTTGTCCAACTTGCAAATCTTCAATATCAGCGCCAACATCTTCAAGTACGATTTTCTAACGAGACTATATTTGAATGGCAATAGCCTCACGGAACTGCCAGCGGAGATCAAGAACCTAAGCAACCTACGCGTTTTGGACCTGTCGCATAATAGGTTAACATCTCTACCAGCGGAACTAGGCTCATGTTTCCAATTGAAATACTTCTACTTTTTTGATAACATGGTCACCACATTACCATGGGAGTTTGGGAACCTGTGTAACCTTCAGTTTCTTGGTGTAGAAGGAAACCCCTTAGAAAAACAGTTTTTAAAGATCCTTACAGAAAAATCTGTCACGGGATTGATTTTCTACCTAAGGGACAACAGACCAGAGATTCCCTTACCGCATGAACGTAGGTTCATCGAAATCAATACCGATGGGGAACCACAGAGGGAGTACGATTCTTTGCAGCAATCCACTGAGCATCTGGCCACCGATTTAGCCAAGAGGACGTTCACCGTCTTATCCTACAACACCTTATGTCAACACTATGCCACCCCAAAAATGTACCGTTACACACCGTCGTGGGCGTTAAGTTGGGATTACAGGCGCAATAAATTAAAGGAGCAGATTCTCTCGTACGACAGTGATCTGTTGTGTTTACAAGAAGTGGAGTCTAAGACTTTTGAAGAGTATTGGGTGCCCCTATTGGACAAGCACGGTTATACAGGCATCTTCCATGCAAAGGCAAGAGCCAAGACCATGCATTCCAAGGACTCCAAGAAAGTGGACGGGTGTTGCATTTTTTTCAAAAGGGACCAATTCAAGTTGATCACCAAAGACGCCATGGATTTCAGCGGTGCTTGGATGAAACACAAGAAGTTCCAAAGAACTGAAGATTATTTAAACCGTGCAATGAACAAAGACAACGTTGCACTGTTCTTAAAGCTACAACACATTCCTAGTGGCGACACCATATGGGCGGTCACCACGCATTTGCACTGGGATCCAAAATTTAATGATGTCAAGACATTCCAAGTAGGTGTCCTGTTAGATCATCTGGAAACGCTGCTAAAGGAGGAGACATCGCACAATTTTAGACAGGACATTAAGAAATTTCCTGTGCTCATTTGTGGTGACTTCAATTCATACATCAACTCCGCCGTATACGAATTGATAAATACAGGCCGTGTCCAAATACATCAAGAGGGAAATGGTAGAGATTTCGGTTACATGTCGGAGAAAAATTTCTCACATAACTTGGCTCTCAAATCAAGTTATAATTGTATCGGAGAACTACCATTCACCAATTTCACACCGTCATTCACAGATGTTATCGACTATATATGGTTTTCTACACATGCTCTAAGGGTGCGTGGGCTATTGGGTGAAGTGGACCCTGAATACGTGAGTAAGTTTATCGGGTTCCCCAACGACAAATTCCCCAGTGACCATATACCATTGTTAGCAAGATTTGAATTTATGAAGACAAACACAGGCAGTAAGAAAGTATAA',\n",
       " 'chromosome': 'I',\n",
       " 'domains': <API Request /protein/6841552/domains/>,\n",
       " 'entry_nr': 6841552,\n",
       " 'entry_url': <API Request /protein/6841552/>,\n",
       " 'hog_levels': ['Saccharomyces cerevisiae',\n",
       "                'Saccharomycetaceae',\n",
       "                'Saccharomycetales',\n",
       "                'saccharomyceta',\n",
       "                'Ascomycota',\n",
       "                'Dikarya',\n",
       "                'Fungi',\n",
       "                'Opisthokonta'],\n",
       " 'homoeologs': None,\n",
       " 'is_main_isoform': True,\n",
       " 'locus': {'end': 113359, 'start': 110846, 'strand': -1},\n",
       " 'oma_group': 823874,\n",
       " 'oma_group_url': <API Request /group/823874/>,\n",
       " 'oma_hog_id': 'HOG:0402391.2b',\n",
       " 'oma_hog_members': <API Request /hog/HOG:0402391.2b/members/>,\n",
       " 'omaid': 'YEAST00058',\n",
       " 'ontology': <API Request /protein/6841552/ontology/>,\n",
       " 'orthologs': <API Request /protein/6841552/orthologs/>,\n",
       " 'roothog_id': 402391,\n",
       " 'sequence': 'MNDPSLLGYPNVGPQQQQQQQQQQHAGLLGKGTPNALQQQLHMNQLTGIPPPGLMNNSDVHTSSNNNSRQLLDQLANGNANMLNMNMDNNNNNNNNNNNNNNNGGGSGVMMNASTAAVNSIGMVPTVGTPVNINVNASNPLLHPHLDDPSLLNNPIWKLQLHLAAVSAQSLGQPNIYARQNAMKKYLATQQAQQAQQQAQQQAQQQVPGPFGPGPQAAPPALQPTDFQQSHIAEASKSLVDCTKQALMEMADTLTDSKTAKKQQPTGDSTPSGTATNSAVSTPLTPKIELFANGKDEANQALLQHKKLSQYSIDEDDDIENRMVMPKDSKYDDQLWHALDLSNLQIFNISANIFKYDFLTRLYLNGNSLTELPAEIKNLSNLRVLDLSHNRLTSLPAELGSCFQLKYFYFFDNMVTTLPWEFGNLCNLQFLGVEGNPLEKQFLKILTEKSVTGLIFYLRDNRPEIPLPHERRFIEINTDGEPQREYDSLQQSTEHLATDLAKRTFTVLSYNTLCQHYATPKMYRYTPSWALSWDYRRNKLKEQILSYDSDLLCLQEVESKTFEEYWVPLLDKHGYTGIFHAKARAKTMHSKDSKKVDGCCIFFKRDQFKLITKDAMDFSGAWMKHKKFQRTEDYLNRAMNKDNVALFLKLQHIPSGDTIWAVTTHLHWDPKFNDVKTFQVGVLLDHLETLLKEETSHNFRQDIKKFPVLICGDFNSYINSAVYELINTGRVQIHQEGNGRDFGYMSEKNFSHNLALKSSYNCIGELPFTNFTPSFTDVIDYIWFSTHALRVRGLLGEVDPEYVSKFIGFPNDKFPSDHIPLLARFEFMKTNTGSKKV',\n",
       " 'sequence_length': 837,\n",
       " 'sequence_md5': 'bbda522433eb2b44debbd557935fcbc1',\n",
       " 'xref': <API Request /protein/6841552/xref/>}]}"
      ]
     },
     "execution_count": 13,
     "metadata": {},
     "output_type": "execute_result"
    }
   ],
   "source": [
    "r"
   ]
  },
  {
   "cell_type": "markdown",
   "metadata": {},
   "source": [
    "From the results above, we can see that the matches were identified as _exact_ matches. This means that they are 100% identical to the query sequence.\n",
    "\n",
    "Now, let's see how many targets we have matched:"
   ]
  },
  {
   "cell_type": "code",
   "execution_count": 14,
   "metadata": {},
   "outputs": [
    {
     "data": {
      "text/plain": [
       "1"
      ]
     },
     "execution_count": 14,
     "metadata": {},
     "output_type": "execute_result"
    }
   ],
   "source": [
    "len(r.targets)"
   ]
  },
  {
   "cell_type": "markdown",
   "metadata": {},
   "source": [
    "Here we have matched a single target. Let's find its OMA ID and the HOG that it belongs to."
   ]
  },
  {
   "cell_type": "code",
   "execution_count": 15,
   "metadata": {},
   "outputs": [],
   "source": [
    "e = r.targets[0]"
   ]
  },
  {
   "cell_type": "code",
   "execution_count": 16,
   "metadata": {},
   "outputs": [
    {
     "data": {
      "text/plain": [
       "'YEAST00058'"
      ]
     },
     "execution_count": 16,
     "metadata": {},
     "output_type": "execute_result"
    }
   ],
   "source": [
    "e.omaid"
   ]
  },
  {
   "cell_type": "code",
   "execution_count": 17,
   "metadata": {},
   "outputs": [
    {
     "data": {
      "text/plain": [
       "'HOG:0402391.2b'"
      ]
     },
     "execution_count": 17,
     "metadata": {},
     "output_type": "execute_result"
    }
   ],
   "source": [
    "e.oma_hog_id"
   ]
  },
  {
   "cell_type": "markdown",
   "metadata": {},
   "source": [
    "Next, we want to access all members from this HOG. This can be done in two ways."
   ]
  },
  {
   "cell_type": "code",
   "execution_count": 18,
   "metadata": {},
   "outputs": [],
   "source": [
    "hog = e.oma_hog_members\n",
    "hog_members = hog.members\n",
    "\n",
    "# Alternative:\n",
    "hog_members = c.hogs.members(e.oma_hog_id)"
   ]
  },
  {
   "cell_type": "markdown",
   "metadata": {},
   "source": [
    "Note, it is also possible to go directly to the HOG members from a protein entry as well as a HOG ID."
   ]
  },
  {
   "cell_type": "code",
   "execution_count": 19,
   "metadata": {},
   "outputs": [],
   "source": [
    "hog_members = c.hogs.members('YEAST00058')"
   ]
  },
  {
   "cell_type": "markdown",
   "metadata": {},
   "source": [
    "Finally, let's find the GO annotations for the members of this HOG and then perform a GO enrichment study using GOATOOLS. There is handy functionality in the library to load this automatically for us."
   ]
  },
  {
   "cell_type": "code",
   "execution_count": 20,
   "metadata": {},
   "outputs": [
    {
     "name": "stdout",
     "output_type": "stream",
     "text": [
      "/var/folders/h9/3pbgfw_n4r53rndnhmrgn3lh0000gn/T/tmpsrlhwyzl.obo: fmt(1.2) rel(2018-12-13) 47,370 GO Terms\n",
      "fisher module not installed.  Falling back on scipy.stats.fisher_exact\n",
      "100%     96 of     96 population items found in association\n"
     ]
    },
    {
     "name": "stderr",
     "output_type": "stream",
     "text": [
      "Propagating term counts to parents ..\n"
     ]
    }
   ],
   "source": [
    "background = [e.omaid for e in hog_members]\n",
    "\n",
    "goea = c.entries.gene_ontology(background, as_goatools=True, progress=True, methods=['fdr_bh'])"
   ]
  },
  {
   "cell_type": "code",
   "execution_count": 21,
   "metadata": {},
   "outputs": [],
   "source": [
    "# Hypothetical study set -- protein entries of interest\n",
    "foreground = ['YEASO02431', 'LODEL00382', 'ZYGRO02696']"
   ]
  },
  {
   "cell_type": "code",
   "execution_count": 22,
   "metadata": {},
   "outputs": [
    {
     "name": "stdout",
     "output_type": "stream",
     "text": [
      "100%      3 of      3 study items found in association\n",
      "100%      3 of      3 study items found in population(96)\n",
      "Calculating 215 uncorrected p-values using fisher_scipy_stats\n",
      "     215 GO terms are associated with     95 of     96 population items\n",
      "     162 GO terms are associated with      2 of      3 study items\n",
      "     152 GO terms found significant (< 0.05=alpha) after multitest correction: statsmodels fdr_bh\n"
     ]
    }
   ],
   "source": [
    "results = goea.run_study(foreground)"
   ]
  },
  {
   "cell_type": "code",
   "execution_count": 23,
   "metadata": {},
   "outputs": [
    {
     "name": "stdout",
     "output_type": "stream",
     "text": [
      "GO\tNS\tenrichment\tname\tratio_in_study\tratio_in_pop\tp_uncorrected\tdepth\tstudy_count\tp_fdr_bh\tstudy_items\n",
      "GO:0006368\tBP\te\ttranscription elongation from RNA polymerase II promoter\t2/3\t11/96\t0.0339\t9\t2\t0.0479\tLODEL00382, ZYGRO02696\n",
      "GO:1901989\tBP\te\tpositive regulation of cell cycle phase transition\t2/3\t11/96\t0.0339\t7\t2\t0.0479\tLODEL00382, ZYGRO02696\n",
      "GO:0009890\tBP\te\tnegative regulation of biosynthetic process\t2/3\t11/96\t0.0339\t5\t2\t0.0479\tLODEL00382, ZYGRO02696\n",
      "GO:0051254\tBP\te\tpositive regulation of RNA metabolic process\t2/3\t11/96\t0.0339\t7\t2\t0.0479\tLODEL00382, ZYGRO02696\n",
      "GO:0006260\tBP\te\tDNA replication               \t2/3\t11/96\t0.0339\t7\t2\t0.0479\tLODEL00382, ZYGRO02696\n",
      "GO:0051172\tBP\te\tnegative regulation of nitrogen compound metabolic process\t2/3\t11/96\t0.0339\t5\t2\t0.0479\tLODEL00382, ZYGRO02696\n",
      "GO:0010564\tBP\te\tregulation of cell cycle process\t2/3\t11/96\t0.0339\t5\t2\t0.0479\tLODEL00382, ZYGRO02696\n",
      "GO:0048523\tBP\te\tnegative regulation of cellular process\t2/3\t11/96\t0.0339\t4\t2\t0.0479\tLODEL00382, ZYGRO02696\n",
      "GO:0045893\tBP\te\tpositive regulation of transcription, DNA-templated\t2/3\t11/96\t0.0339\t10\t2\t0.0479\tLODEL00382, ZYGRO02696\n",
      "GO:0090329\tBP\te\tregulation of DNA-dependent DNA replication\t2/3\t11/96\t0.0339\t8\t2\t0.0479\tLODEL00382, ZYGRO02696\n",
      "GO:0031324\tBP\te\tnegative regulation of cellular metabolic process\t2/3\t11/96\t0.0339\t5\t2\t0.0479\tLODEL00382, ZYGRO02696\n",
      "GO:2000104\tBP\te\tnegative regulation of DNA-dependent DNA replication\t2/3\t11/96\t0.0339\t9\t2\t0.0479\tLODEL00382, ZYGRO02696\n",
      "GO:2000113\tBP\te\tnegative regulation of cellular macromolecule biosynthetic process\t2/3\t11/96\t0.0339\t7\t2\t0.0479\tLODEL00382, ZYGRO02696\n",
      "GO:0048478\tBP\te\treplication fork protection   \t2/3\t11/96\t0.0339\t10\t2\t0.0479\tLODEL00382, ZYGRO02696\n",
      "GO:0009891\tBP\te\tpositive regulation of biosynthetic process\t2/3\t11/96\t0.0339\t5\t2\t0.0479\tLODEL00382, ZYGRO02696\n",
      "GO:0045787\tBP\te\tpositive regulation of cell cycle\t2/3\t11/96\t0.0339\t5\t2\t0.0479\tLODEL00382, ZYGRO02696\n",
      "GO:0006354\tBP\te\tDNA-templated transcription, elongation\t2/3\t11/96\t0.0339\t8\t2\t0.0479\tLODEL00382, ZYGRO02696\n",
      "GO:0006259\tBP\te\tDNA metabolic process         \t2/3\t11/96\t0.0339\t6\t2\t0.0479\tLODEL00382, ZYGRO02696\n",
      "GO:0045935\tBP\te\tpositive regulation of nucleobase-containing compound metabolic process\t2/3\t11/96\t0.0339\t6\t2\t0.0479\tLODEL00382, ZYGRO02696\n",
      "GO:0009893\tBP\te\tpositive regulation of metabolic process\t2/3\t11/96\t0.0339\t4\t2\t0.0479\tLODEL00382, ZYGRO02696\n",
      "GO:0045786\tBP\te\tnegative regulation of cell cycle\t2/3\t11/96\t0.0339\t5\t2\t0.0479\tLODEL00382, ZYGRO02696\n",
      "GO:1900087\tBP\te\tpositive regulation of G1/S transition of mitotic cell cycle\t2/3\t11/96\t0.0339\t9\t2\t0.0479\tLODEL00382, ZYGRO02696\n",
      "GO:0031328\tBP\te\tpositive regulation of cellular biosynthetic process\t2/3\t11/96\t0.0339\t6\t2\t0.0479\tLODEL00382, ZYGRO02696\n",
      "GO:1902806\tBP\te\tregulation of cell cycle G1/S phase transition\t2/3\t11/96\t0.0339\t7\t2\t0.0479\tLODEL00382, ZYGRO02696\n",
      "GO:0051726\tBP\te\tregulation of cell cycle      \t2/3\t11/96\t0.0339\t4\t2\t0.0479\tLODEL00382, ZYGRO02696\n",
      "GO:0032786\tBP\te\tpositive regulation of DNA-templated transcription, elongation\t2/3\t11/96\t0.0339\t11\t2\t0.0479\tLODEL00382, ZYGRO02696\n",
      "GO:1902680\tBP\te\tpositive regulation of RNA biosynthetic process\t2/3\t11/96\t0.0339\t8\t2\t0.0479\tLODEL00382, ZYGRO02696\n",
      "GO:0048522\tBP\te\tpositive regulation of cellular process\t2/3\t11/96\t0.0339\t4\t2\t0.0479\tLODEL00382, ZYGRO02696\n",
      "GO:0010557\tBP\te\tpositive regulation of macromolecule biosynthetic process\t2/3\t11/96\t0.0339\t6\t2\t0.0479\tLODEL00382, ZYGRO02696\n",
      "GO:0007346\tBP\te\tregulation of mitotic cell cycle\t2/3\t11/96\t0.0339\t5\t2\t0.0479\tLODEL00382, ZYGRO02696\n",
      "GO:0008156\tBP\te\tnegative regulation of DNA replication\t2/3\t11/96\t0.0339\t8\t2\t0.0479\tLODEL00382, ZYGRO02696\n",
      "GO:1903508\tBP\te\tpositive regulation of nucleic acid-templated transcription\t2/3\t11/96\t0.0339\t9\t2\t0.0479\tLODEL00382, ZYGRO02696\n",
      "GO:0006357\tBP\te\tregulation of transcription by RNA polymerase II\t2/3\t11/96\t0.0339\t10\t2\t0.0479\tLODEL00382, ZYGRO02696\n",
      "GO:0000288\tBP\te\tnuclear-transcribed mRNA catabolic process, deadenylation-dependent decay\t2/3\t11/96\t0.0339\t10\t2\t0.0479\tLODEL00382, ZYGRO02696\n",
      "GO:0048518\tBP\te\tpositive regulation of biological process\t2/3\t11/96\t0.0339\t3\t2\t0.0479\tLODEL00382, ZYGRO02696\n",
      "GO:0034243\tBP\te\tregulation of transcription elongation from RNA polymerase II promoter\t2/3\t11/96\t0.0339\t11\t2\t0.0479\tLODEL00382, ZYGRO02696\n",
      "GO:0051173\tBP\te\tpositive regulation of nitrogen compound metabolic process\t2/3\t11/96\t0.0339\t5\t2\t0.0479\tLODEL00382, ZYGRO02696\n",
      "GO:0051052\tBP\te\tregulation of DNA metabolic process\t2/3\t11/96\t0.0339\t6\t2\t0.0479\tLODEL00382, ZYGRO02696\n",
      "GO:0051053\tBP\te\tnegative regulation of DNA metabolic process\t2/3\t11/96\t0.0339\t7\t2\t0.0479\tLODEL00382, ZYGRO02696\n",
      "GO:0000076\tBP\te\tDNA replication checkpoint    \t2/3\t11/96\t0.0339\t8\t2\t0.0479\tLODEL00382, ZYGRO02696\n",
      "GO:1901992\tBP\te\tpositive regulation of mitotic cell cycle phase transition\t2/3\t11/96\t0.0339\t8\t2\t0.0479\tLODEL00382, ZYGRO02696\n",
      "GO:0045931\tBP\te\tpositive regulation of mitotic cell cycle\t2/3\t11/96\t0.0339\t6\t2\t0.0479\tLODEL00382, ZYGRO02696\n",
      "GO:0000075\tBP\te\tcell cycle checkpoint         \t2/3\t11/96\t0.0339\t6\t2\t0.0479\tLODEL00382, ZYGRO02696\n",
      "GO:0045934\tBP\te\tnegative regulation of nucleobase-containing compound metabolic process\t2/3\t11/96\t0.0339\t6\t2\t0.0479\tLODEL00382, ZYGRO02696\n",
      "GO:1902808\tBP\te\tpositive regulation of cell cycle G1/S phase transition\t2/3\t11/96\t0.0339\t8\t2\t0.0479\tLODEL00382, ZYGRO02696\n",
      "GO:2000045\tBP\te\tregulation of G1/S transition of mitotic cell cycle\t2/3\t11/96\t0.0339\t8\t2\t0.0479\tLODEL00382, ZYGRO02696\n",
      "GO:0010628\tBP\te\tpositive regulation of gene expression\t2/3\t11/96\t0.0339\t6\t2\t0.0479\tLODEL00382, ZYGRO02696\n",
      "GO:0010604\tBP\te\tpositive regulation of macromolecule metabolic process\t2/3\t11/96\t0.0339\t5\t2\t0.0479\tLODEL00382, ZYGRO02696\n",
      "GO:1901990\tBP\te\tregulation of mitotic cell cycle phase transition\t2/3\t11/96\t0.0339\t7\t2\t0.0479\tLODEL00382, ZYGRO02696\n",
      "GO:0031327\tBP\te\tnegative regulation of cellular biosynthetic process\t2/3\t11/96\t0.0339\t6\t2\t0.0479\tLODEL00382, ZYGRO02696\n",
      "GO:1901987\tBP\te\tregulation of cell cycle phase transition\t2/3\t11/96\t0.0339\t6\t2\t0.0479\tLODEL00382, ZYGRO02696\n",
      "GO:0090068\tBP\te\tpositive regulation of cell cycle process\t2/3\t11/96\t0.0339\t6\t2\t0.0479\tLODEL00382, ZYGRO02696\n",
      "GO:0031570\tBP\te\tDNA integrity checkpoint      \t2/3\t11/96\t0.0339\t7\t2\t0.0479\tLODEL00382, ZYGRO02696\n",
      "GO:0045944\tBP\te\tpositive regulation of transcription by RNA polymerase II\t2/3\t11/96\t0.0339\t11\t2\t0.0479\tLODEL00382, ZYGRO02696\n",
      "GO:0007089\tBP\te\ttraversing start control point of mitotic cell cycle\t2/3\t11/96\t0.0339\t10\t2\t0.0479\tLODEL00382, ZYGRO02696\n",
      "GO:0010558\tBP\te\tnegative regulation of macromolecule biosynthetic process\t2/3\t11/96\t0.0339\t6\t2\t0.0479\tLODEL00382, ZYGRO02696\n",
      "GO:0031325\tBP\te\tpositive regulation of cellular metabolic process\t2/3\t11/96\t0.0339\t5\t2\t0.0479\tLODEL00382, ZYGRO02696\n",
      "GO:0032784\tBP\te\tregulation of DNA-templated transcription, elongation\t2/3\t11/96\t0.0339\t10\t2\t0.0479\tLODEL00382, ZYGRO02696\n",
      "GO:0006275\tBP\te\tregulation of DNA replication \t2/3\t11/96\t0.0339\t7\t2\t0.0479\tLODEL00382, ZYGRO02696\n",
      "GO:0045005\tBP\te\tDNA-dependent DNA replication maintenance of fidelity\t2/3\t11/96\t0.0339\t7\t2\t0.0479\tLODEL00382, ZYGRO02696\n",
      "GO:0032968\tBP\te\tpositive regulation of transcription elongation from RNA polymerase II promoter\t2/3\t11/96\t0.0339\t12\t2\t0.0479\tLODEL00382, ZYGRO02696\n",
      "GO:0006351\tBP\tp\ttranscription, DNA-templated  \t0/3\t93/96\t7e-06\t9\t0\t0.000107\t               \n",
      "GO:0097659\tBP\tp\tnucleic acid-templated transcription\t0/3\t93/96\t7e-06\t8\t0\t0.000107\t               \n",
      "GO:0090304\tBP\tp\tnucleic acid metabolic process\t2/3\t95/96\t0.0313\t5\t2\t0.0479\tLODEL00382, ZYGRO02696\n",
      "GO:1903506\tBP\tp\tregulation of nucleic acid-templated transcription\t2/3\t95/96\t0.0313\t8\t2\t0.0479\tLODEL00382, ZYGRO02696\n",
      "GO:0051252\tBP\tp\tregulation of RNA metabolic process\t2/3\t95/96\t0.0313\t6\t2\t0.0479\tLODEL00382, ZYGRO02696\n",
      "GO:0071704\tBP\tp\torganic substance metabolic process\t2/3\t95/96\t0.0313\t2\t2\t0.0479\tLODEL00382, ZYGRO02696\n",
      "GO:1901362\tBP\tp\torganic cyclic compound biosynthetic process\t2/3\t95/96\t0.0313\t4\t2\t0.0479\tLODEL00382, ZYGRO02696\n",
      "GO:0080090\tBP\tp\tregulation of primary metabolic process\t2/3\t95/96\t0.0313\t4\t2\t0.0479\tLODEL00382, ZYGRO02696\n",
      "GO:0043170\tBP\tp\tmacromolecule metabolic process\t2/3\t95/96\t0.0313\t3\t2\t0.0479\tLODEL00382, ZYGRO02696\n",
      "GO:0044271\tBP\tp\tcellular nitrogen compound biosynthetic process\t2/3\t95/96\t0.0313\t4\t2\t0.0479\tLODEL00382, ZYGRO02696\n",
      "GO:0009889\tBP\tp\tregulation of biosynthetic process\t2/3\t95/96\t0.0313\t4\t2\t0.0479\tLODEL00382, ZYGRO02696\n",
      "GO:2000112\tBP\tp\tregulation of cellular macromolecule biosynthetic process\t2/3\t95/96\t0.0313\t6\t2\t0.0479\tLODEL00382, ZYGRO02696\n",
      "GO:0034641\tBP\tp\tcellular nitrogen compound metabolic process\t2/3\t95/96\t0.0313\t3\t2\t0.0479\tLODEL00382, ZYGRO02696\n",
      "GO:0048519\tBP\tp\tnegative regulation of biological process\t2/3\t95/96\t0.0313\t3\t2\t0.0479\tLODEL00382, ZYGRO02696\n",
      "GO:0010468\tBP\tp\tregulation of gene expression \t2/3\t95/96\t0.0313\t5\t2\t0.0479\tLODEL00382, ZYGRO02696\n",
      "GO:0019438\tBP\tp\taromatic compound biosynthetic process\t2/3\t95/96\t0.0313\t4\t2\t0.0479\tLODEL00382, ZYGRO02696\n",
      "GO:0006139\tBP\tp\tnucleobase-containing compound metabolic process\t2/3\t95/96\t0.0313\t4\t2\t0.0479\tLODEL00382, ZYGRO02696\n",
      "GO:0044237\tBP\tp\tcellular metabolic process    \t2/3\t95/96\t0.0313\t2\t2\t0.0479\tLODEL00382, ZYGRO02696\n",
      "GO:0051171\tBP\tp\tregulation of nitrogen compound metabolic process\t2/3\t95/96\t0.0313\t4\t2\t0.0479\tLODEL00382, ZYGRO02696\n",
      "GO:0010556\tBP\tp\tregulation of macromolecule biosynthetic process\t2/3\t95/96\t0.0313\t5\t2\t0.0479\tLODEL00382, ZYGRO02696\n",
      "GO:0050794\tBP\tp\tregulation of cellular process\t2/3\t95/96\t0.0313\t3\t2\t0.0479\tLODEL00382, ZYGRO02696\n",
      "GO:0009058\tBP\tp\tbiosynthetic process          \t2/3\t95/96\t0.0313\t2\t2\t0.0479\tLODEL00382, ZYGRO02696\n",
      "GO:1901576\tBP\tp\torganic substance biosynthetic process\t2/3\t95/96\t0.0313\t3\t2\t0.0479\tLODEL00382, ZYGRO02696\n",
      "GO:0019219\tBP\tp\tregulation of nucleobase-containing compound metabolic process\t2/3\t95/96\t0.0313\t5\t2\t0.0479\tLODEL00382, ZYGRO02696\n",
      "GO:0032774\tBP\tp\tRNA biosynthetic process      \t2/3\t95/96\t0.0313\t7\t2\t0.0479\tLODEL00382, ZYGRO02696\n",
      "GO:0046483\tBP\tp\theterocycle metabolic process \t2/3\t95/96\t0.0313\t3\t2\t0.0479\tLODEL00382, ZYGRO02696\n",
      "GO:0044238\tBP\tp\tprimary metabolic process     \t2/3\t95/96\t0.0313\t2\t2\t0.0479\tLODEL00382, ZYGRO02696\n",
      "GO:0006725\tBP\tp\tcellular aromatic compound metabolic process\t2/3\t95/96\t0.0313\t3\t2\t0.0479\tLODEL00382, ZYGRO02696\n",
      "GO:0009987\tBP\tp\tcellular process              \t2/3\t95/96\t0.0313\t1\t2\t0.0479\tLODEL00382, ZYGRO02696\n",
      "GO:0034654\tBP\tp\tnucleobase-containing compound biosynthetic process\t2/3\t95/96\t0.0313\t5\t2\t0.0479\tLODEL00382, ZYGRO02696\n",
      "GO:0010629\tBP\tp\tnegative regulation of gene expression\t2/3\t95/96\t0.0313\t6\t2\t0.0479\tLODEL00382, ZYGRO02696\n",
      "GO:0044260\tBP\tp\tcellular macromolecule metabolic process\t2/3\t95/96\t0.0313\t4\t2\t0.0479\tLODEL00382, ZYGRO02696\n",
      "GO:0031326\tBP\tp\tregulation of cellular biosynthetic process\t2/3\t95/96\t0.0313\t5\t2\t0.0479\tLODEL00382, ZYGRO02696\n",
      "GO:0009059\tBP\tp\tmacromolecule biosynthetic process\t2/3\t95/96\t0.0313\t4\t2\t0.0479\tLODEL00382, ZYGRO02696\n",
      "GO:0031323\tBP\tp\tregulation of cellular metabolic process\t2/3\t95/96\t0.0313\t4\t2\t0.0479\tLODEL00382, ZYGRO02696\n",
      "GO:0008150\tBP\tp\tbiological_process            \t2/3\t95/96\t0.0313\t0\t2\t0.0479\tLODEL00382, ZYGRO02696\n",
      "GO:0065007\tBP\tp\tbiological regulation         \t2/3\t95/96\t0.0313\t1\t2\t0.0479\tLODEL00382, ZYGRO02696\n",
      "GO:0008152\tBP\tp\tmetabolic process             \t2/3\t95/96\t0.0313\t1\t2\t0.0479\tLODEL00382, ZYGRO02696\n",
      "GO:0034645\tBP\tp\tcellular macromolecule biosynthetic process\t2/3\t95/96\t0.0313\t5\t2\t0.0479\tLODEL00382, ZYGRO02696\n",
      "GO:0016070\tBP\tp\tRNA metabolic process         \t2/3\t95/96\t0.0313\t6\t2\t0.0479\tLODEL00382, ZYGRO02696\n",
      "GO:0006355\tBP\tp\tregulation of transcription, DNA-templated\t2/3\t95/96\t0.0313\t9\t2\t0.0479\tLODEL00382, ZYGRO02696\n",
      "GO:1901360\tBP\tp\torganic cyclic compound metabolic process\t2/3\t95/96\t0.0313\t3\t2\t0.0479\tLODEL00382, ZYGRO02696\n",
      "GO:2001141\tBP\tp\tregulation of RNA biosynthetic process\t2/3\t95/96\t0.0313\t7\t2\t0.0479\tLODEL00382, ZYGRO02696\n",
      "GO:0010605\tBP\tp\tnegative regulation of macromolecule metabolic process\t2/3\t95/96\t0.0313\t5\t2\t0.0479\tLODEL00382, ZYGRO02696\n",
      "GO:0009892\tBP\tp\tnegative regulation of metabolic process\t2/3\t95/96\t0.0313\t4\t2\t0.0479\tLODEL00382, ZYGRO02696\n",
      "GO:0016071\tBP\tp\tmRNA metabolic process        \t2/3\t95/96\t0.0313\t7\t2\t0.0479\tLODEL00382, ZYGRO02696\n",
      "GO:0019222\tBP\tp\tregulation of metabolic process\t2/3\t95/96\t0.0313\t3\t2\t0.0479\tLODEL00382, ZYGRO02696\n",
      "GO:0018130\tBP\tp\theterocycle biosynthetic process\t2/3\t95/96\t0.0313\t4\t2\t0.0479\tLODEL00382, ZYGRO02696\n",
      "GO:0060255\tBP\tp\tregulation of macromolecule metabolic process\t2/3\t95/96\t0.0313\t4\t2\t0.0479\tLODEL00382, ZYGRO02696\n",
      "GO:0044249\tBP\tp\tcellular biosynthetic process \t2/3\t95/96\t0.0313\t3\t2\t0.0479\tLODEL00382, ZYGRO02696\n",
      "GO:0050789\tBP\tp\tregulation of biological process\t2/3\t95/96\t0.0313\t2\t2\t0.0479\tLODEL00382, ZYGRO02696\n",
      "GO:0006807\tBP\tp\tnitrogen compound metabolic process\t2/3\t95/96\t0.0313\t2\t2\t0.0479\tLODEL00382, ZYGRO02696\n",
      "GO:0008023\tCC\te\ttranscription elongation factor complex\t2/3\t10/96\t0.0279\t6\t2\t0.0479\tLODEL00382, ZYGRO02696\n",
      "GO:0044428\tCC\te\tnuclear part                  \t2/3\t10/96\t0.0279\t4\t2\t0.0479\tLODEL00382, ZYGRO02696\n",
      "GO:0044451\tCC\te\tnucleoplasm part              \t2/3\t10/96\t0.0279\t5\t2\t0.0479\tLODEL00382, ZYGRO02696\n",
      "GO:0044422\tCC\te\torganelle part                \t2/3\t10/96\t0.0279\t1\t2\t0.0479\tLODEL00382, ZYGRO02696\n",
      "GO:0044446\tCC\te\tintracellular organelle part  \t2/3\t10/96\t0.0279\t3\t2\t0.0479\tLODEL00382, ZYGRO02696\n",
      "GO:0016593\tCC\te\tCdc73/Paf1 complex            \t2/3\t10/96\t0.0279\t7\t2\t0.0479\tLODEL00382, ZYGRO02696\n",
      "GO:0043231\tCC\tp\tintracellular membrane-bounded organelle\t0/3\t93/96\t7e-06\t4\t0\t0.000107\t               \n",
      "GO:0043227\tCC\tp\tmembrane-bounded organelle    \t0/3\t93/96\t7e-06\t2\t0\t0.000107\t               \n",
      "GO:0005634\tCC\tp\tnucleus                       \t0/3\t93/96\t7e-06\t5\t0\t0.000107\t               \n",
      "GO:0030014\tCC\tp\tCCR4-NOT complex              \t0/3\t92/96\t2.8e-05\t3\t0\t0.000401\t               \n",
      "GO:0005575\tCC\tp\tcellular_component            \t2/3\t95/96\t0.0313\t0\t2\t0.0479\tLODEL00382, ZYGRO02696\n",
      "GO:0032991\tCC\tp\tprotein-containing complex    \t2/3\t95/96\t0.0313\t1\t2\t0.0479\tLODEL00382, ZYGRO02696\n",
      "GO:0043226\tCC\tp\torganelle                     \t2/3\t95/96\t0.0313\t1\t2\t0.0479\tLODEL00382, ZYGRO02696\n",
      "GO:0043229\tCC\tp\tintracellular organelle       \t2/3\t95/96\t0.0313\t3\t2\t0.0479\tLODEL00382, ZYGRO02696\n",
      "GO:0005737\tCC\tp\tcytoplasm                     \t2/3\t95/96\t0.0313\t3\t2\t0.0479\tLODEL00382, ZYGRO02696\n",
      "GO:0044464\tCC\tp\tcell part                     \t2/3\t95/96\t0.0313\t1\t2\t0.0479\tLODEL00382, ZYGRO02696\n",
      "GO:0044424\tCC\tp\tintracellular part            \t2/3\t95/96\t0.0313\t2\t2\t0.0479\tLODEL00382, ZYGRO02696\n",
      "GO:0043169\tMF\tp\tcation binding                \t0/3\t93/96\t7e-06\t3\t0\t0.000107\t               \n",
      "GO:0005488\tMF\tp\tbinding                       \t0/3\t93/96\t7e-06\t1\t0\t0.000107\t               \n",
      "GO:0043167\tMF\tp\tion binding                   \t0/3\t93/96\t7e-06\t2\t0\t0.000107\t               \n",
      "GO:1901363\tMF\tp\theterocyclic compound binding \t0/3\t93/96\t7e-06\t2\t0\t0.000107\t               \n",
      "GO:0003723\tMF\tp\tRNA binding                   \t0/3\t93/96\t7e-06\t4\t0\t0.000107\t               \n",
      "GO:0097159\tMF\tp\torganic cyclic compound binding\t0/3\t93/96\t7e-06\t2\t0\t0.000107\t               \n",
      "GO:0003676\tMF\tp\tnucleic acid binding          \t0/3\t93/96\t7e-06\t3\t0\t0.000107\t               \n",
      "GO:0004535\tMF\tp\tpoly(A)-specific ribonuclease activity\t0/3\t93/96\t7e-06\t9\t0\t0.000107\t               \n",
      "GO:0046872\tMF\tp\tmetal ion binding             \t0/3\t93/96\t7e-06\t4\t0\t0.000107\t               \n",
      "GO:0003674\tMF\tp\tmolecular_function            \t2/3\t95/96\t0.0313\t0\t2\t0.0479\tLODEL00382, ZYGRO02696\n",
      "GO:0016787\tMF\tp\thydrolase activity            \t2/3\t95/96\t0.0313\t2\t2\t0.0479\tLODEL00382, ZYGRO02696\n",
      "GO:0016896\tMF\tp\texoribonuclease activity, producing 5'-phosphomonoesters\t2/3\t95/96\t0.0313\t7\t2\t0.0479\tLODEL00382, ZYGRO02696\n",
      "GO:0004540\tMF\tp\tribonuclease activity         \t2/3\t95/96\t0.0313\t5\t2\t0.0479\tLODEL00382, ZYGRO02696\n",
      "GO:0016788\tMF\tp\thydrolase activity, acting on ester bonds\t2/3\t95/96\t0.0313\t3\t2\t0.0479\tLODEL00382, ZYGRO02696\n",
      "GO:0140098\tMF\tp\tcatalytic activity, acting on RNA\t2/3\t95/96\t0.0313\t2\t2\t0.0479\tLODEL00382, ZYGRO02696\n",
      "GO:0000175\tMF\tp\t3'-5'-exoribonuclease activity\t2/3\t95/96\t0.0313\t8\t2\t0.0479\tLODEL00382, ZYGRO02696\n",
      "GO:0016796\tMF\tp\texonuclease activity, active with either ribo- or deoxyribonucleic acids and producing 5'-phosphomonoesters\t2/3\t95/96\t0.0313\t6\t2\t0.0479\tLODEL00382, ZYGRO02696\n",
      "GO:0008408\tMF\tp\t3'-5' exonuclease activity    \t2/3\t95/96\t0.0313\t6\t2\t0.0479\tLODEL00382, ZYGRO02696\n",
      "GO:0003824\tMF\tp\tcatalytic activity            \t2/3\t95/96\t0.0313\t1\t2\t0.0479\tLODEL00382, ZYGRO02696\n",
      "GO:0004527\tMF\tp\texonuclease activity          \t2/3\t95/96\t0.0313\t5\t2\t0.0479\tLODEL00382, ZYGRO02696\n",
      "GO:0004518\tMF\tp\tnuclease activity             \t2/3\t95/96\t0.0313\t4\t2\t0.0479\tLODEL00382, ZYGRO02696\n",
      "GO:0004532\tMF\tp\texoribonuclease activity      \t2/3\t95/96\t0.0313\t6\t2\t0.0479\tLODEL00382, ZYGRO02696\n"
     ]
    }
   ],
   "source": [
    "goea.print_results(results)"
   ]
  },
  {
   "cell_type": "markdown",
   "metadata": {},
   "source": [
    "---"
   ]
  },
  {
   "cell_type": "markdown",
   "metadata": {},
   "source": [
    "## Example 3 - Taxonomic Tree Visualisation\n",
    "Here, we look at how to load the current taxonomy in the OMA browser. Options are available to retrieve the Newick string or PhyloXML are available.\n",
    "\n",
    "Further, methods to preload into a dendropy or ete3 tree object are available, in order to fit into many current workflows."
   ]
  },
  {
   "cell_type": "markdown",
   "metadata": {},
   "source": [
    "We can grab the <a href=\"//phyloxml.org\">PhyloXML</a> for the entire taxonomy."
   ]
  },
  {
   "cell_type": "code",
   "execution_count": 24,
   "metadata": {},
   "outputs": [],
   "source": [
    "xml = c.taxonomy.get(format='phyloxml')"
   ]
  },
  {
   "cell_type": "markdown",
   "metadata": {},
   "source": [
    "We can retrieve a Newick string for the taxonomy. This can then be used in, for instance, <a href=\"//phylo.io\">Phylo.io</a>."
   ]
  },
  {
   "cell_type": "code",
   "execution_count": 25,
   "metadata": {},
   "outputs": [],
   "source": [
    "nwk = c.taxonomy.get(members=['PONAB', 'GORGO', 'PANPA', 'PANTR', 'HUMAN', 'NOMLE'], format='newick')"
   ]
  },
  {
   "cell_type": "code",
   "execution_count": 26,
   "metadata": {},
   "outputs": [
    {
     "name": "stdout",
     "output_type": "stream",
     "text": [
      "((Pongo_abelii,(Gorilla_gorilla_gorilla,(Pan_paniscus,Pan_troglodytes)Pan,Homo_sapiens)Homininae)Hominidae,Nomascus_leucogenys)Hominoidea;\n"
     ]
    }
   ],
   "source": [
    "print(nwk)"
   ]
  },
  {
   "cell_type": "markdown",
   "metadata": {},
   "source": [
    "We can also use the methods to load dendropy / ete3 trees. Note, dendropy and ete3 are optional dependencies to the `omadb` package, so will not have been installed automatically."
   ]
  },
  {
   "cell_type": "code",
   "execution_count": 27,
   "metadata": {},
   "outputs": [],
   "source": [
    "dendropy_tree = c.taxonomy.dendropy_tree(root='Hominoidea')"
   ]
  },
  {
   "cell_type": "code",
   "execution_count": 28,
   "metadata": {},
   "outputs": [
    {
     "name": "stdout",
     "output_type": "stream",
     "text": [
      "                  /------------------------------------------------------ PONAB\n",
      "                  |                                                            \n",
      "/-----------------+                 /------------------------------------ GORGO\n",
      "|                 |                 |                                          \n",
      "|                 |                 |                 /------------------ PANPA\n",
      "|                 \\-----------------+-----------------+                        \n",
      "+                                   |                 \\------------------ PANTR\n",
      "|                                   |                                          \n",
      "|                                   \\------------------------------------ HUMAN\n",
      "|                                                                              \n",
      "\\------------------------------------------------------------------------ NOMLE\n",
      "                                                                               \n",
      "                                                                               \n"
     ]
    }
   ],
   "source": [
    "print(dendropy_tree.as_ascii_plot())"
   ]
  },
  {
   "cell_type": "markdown",
   "metadata": {},
   "source": [
    "Alternatively, we can load with the species names instead of the UniProt species codes."
   ]
  },
  {
   "cell_type": "code",
   "execution_count": 29,
   "metadata": {},
   "outputs": [],
   "source": [
    "dendropy_tree = c.taxonomy.dendropy_tree(root='Hominoidea', with_names=True)"
   ]
  },
  {
   "cell_type": "code",
   "execution_count": 30,
   "metadata": {},
   "outputs": [
    {
     "name": "stdout",
     "output_type": "stream",
     "text": [
      "             /----------------------------------------- Pongo abelii           \n",
      "             |                                                                 \n",
      "/------------+             /--------------------------- Gorilla gorilla gorilla\n",
      "|            |             |                                                   \n",
      "|            |             |             /------------- Pan paniscus           \n",
      "|            \\-------------+-------------+                                     \n",
      "+                          |             \\------------- Pan troglodytes        \n",
      "|                          |                                                   \n",
      "|                          \\--------------------------- Homo sapiens           \n",
      "|                                                                              \n",
      "\\------------------------------------------------------ Nomascus leucogenys    \n",
      "                                                                               \n",
      "                                                                               \n"
     ]
    }
   ],
   "source": [
    "print(dendropy_tree.as_ascii_plot())"
   ]
  },
  {
   "cell_type": "markdown",
   "metadata": {},
   "source": [
    "We can also load into the ete3 tree, as so"
   ]
  },
  {
   "cell_type": "code",
   "execution_count": 31,
   "metadata": {},
   "outputs": [],
   "source": [
    "ete_tree = c.taxonomy.ete_tree(root='Hominoidea', with_names=True)"
   ]
  },
  {
   "cell_type": "code",
   "execution_count": 32,
   "metadata": {},
   "outputs": [
    {
     "name": "stdout",
     "output_type": "stream",
     "text": [
      "\n",
      "      /-Pongo abelii\n",
      "     |\n",
      "   /-|   /-Gorilla gorilla gorilla\n",
      "  |  |  |\n",
      "  |  |  |   /-Pan paniscus\n",
      "  |   \\-|--|\n",
      "--|     |   \\-Pan troglodytes\n",
      "  |     |\n",
      "  |      \\-Homo sapiens\n",
      "  |\n",
      "   \\-Nomascus leucogenys\n"
     ]
    }
   ],
   "source": [
    "print(ete_tree)"
   ]
  },
  {
   "cell_type": "markdown",
   "metadata": {},
   "source": [
    "ETE also supports \"pretty\" plotting. For this, you will require PyQt4 (installable using: `conda install \"pyqt<5\"`)."
   ]
  },
  {
   "cell_type": "code",
   "execution_count": 33,
   "metadata": {},
   "outputs": [
    {
     "data": {
      "image/png": "[encoded data removed]",
      "text/plain": [
       "<IPython.core.display.Image object>"
      ]
     },
     "execution_count": 33,
     "metadata": {},
     "output_type": "execute_result"
    }
   ],
   "source": [
    "ete_tree.render('%%inline')"
   ]
  },
  {
   "cell_type": "markdown",
   "metadata": {},
   "source": [
    "---"
   ]
  },
  {
   "cell_type": "markdown",
   "metadata": {},
   "source": [
    "## Example 4 - Visualising the Distribution of PAM Distances in the Taxonomic Space\n",
    "\n",
    "In this example, we compare the distribution of the evolutionary distance (in PAM units) between the 1:1 pairwise orthologues between Human and _Mus musculus_ (Mouse) as well as Human and _Canis lupus familiaris_ (Dog).\n",
    "\n",
    "We start by loading the pairwise data for 1:1 orthologues."
   ]
  },
  {
   "cell_type": "code",
   "execution_count": 34,
   "metadata": {},
   "outputs": [],
   "source": [
    "human_mouse_iter = c.pairwise(genome_id1='HUMAN',\n",
    "                              genome_id2='MOUSE',\n",
    "                              rel_type='1:1',\n",
    "                              progress=True)"
   ]
  },
  {
   "cell_type": "code",
   "execution_count": null,
   "metadata": {},
   "outputs": [
    {
     "data": {
      "text/plain": [
       "<omadb.OMARestAPI.ClientPagedResponse at 0x1a236c8198>"
      ]
     },
     "execution_count": 35,
     "metadata": {},
     "output_type": "execute_result"
    }
   ],
   "source": [
    "human_mouse_iter"
   ]
  },
  {
   "cell_type": "markdown",
   "metadata": {},
   "source": [
    "We have recieved a \"PagedResponse\". As there are a lot of pairwise entries between then two genomes, the response size is limited. The object returned here is a generator which will lazily load the following page of results each time we get to the end.\n",
    "\n",
    "We can either use a for loop over this, or capture the entire response in one go. Here, we only want to extract the distance and don't care about any entry information."
   ]
  },
  {
   "cell_type": "code",
   "execution_count": null,
   "metadata": {},
   "outputs": [
    {
     "name": "stderr",
     "output_type": "stream",
     "text": [
      "Loading pairs:  66%|██████▋   | 15860/23917 [00:13<00:06, 1178.77 entries/s]\n"
     ]
    }
   ],
   "source": [
    "import numpy as np\n",
    "\n",
    "human_mouse = np.array([x.distance for x in human_mouse_iter])\n",
    "\n",
    "human_dog = np.array([x.distance for x in c.pairwise(genome_id1='HUMAN',\n",
    "                                                     genome_id2='CANLF',\n",
    "                                                     rel_type='1:1',\n",
    "                                                     progress=True)])"
   ]
  },
  {
   "cell_type": "code",
   "execution_count": null,
   "metadata": {},
   "outputs": [],
   "source": [
    "%matplotlib inline\n",
    "import seaborn as sns\n",
    "sns.set()"
   ]
  },
  {
   "cell_type": "code",
   "execution_count": null,
   "metadata": {},
   "outputs": [],
   "source": [
    "ax = sns.distplot(human_dog, label='Canis lupus familiaris')\n",
    "ax = sns.distplot(human_mouse, label='Mus musculus', ax=ax)\n",
    "\n",
    "ax.set_title('Distribution of Evolutionary Distance between\\n1:1 Orthologous Pairs HUMAN-{CANLF, MOUSE}')\n",
    "ax.set_xlabel('Evolutionary Distance (PAM)')\n",
    "ax.set_ylabel('Density')\n",
    "ax.legend()"
   ]
  },
  {
   "cell_type": "code",
   "execution_count": null,
   "metadata": {},
   "outputs": [],
   "source": [
    "from scipy import stats"
   ]
  },
  {
   "cell_type": "markdown",
   "metadata": {},
   "source": [
    "We can use the two sample Kolmogorov-Smirnov test, available in scipy, in order to test whether the two samples are drawn from the same distribution."
   ]
  },
  {
   "cell_type": "code",
   "execution_count": null,
   "metadata": {},
   "outputs": [],
   "source": [
    "z = stats.ks_2samp(human_mouse, human_dog)"
   ]
  },
  {
   "cell_type": "code",
   "execution_count": null,
   "metadata": {},
   "outputs": [],
   "source": [
    "z.pvalue"
   ]
  },
  {
   "cell_type": "markdown",
   "metadata": {},
   "source": [
    "This indicates that they are not drawn from the same distribution.\n",
    "\n",
    "We can also look at the median / mean distance."
   ]
  },
  {
   "cell_type": "code",
   "execution_count": null,
   "metadata": {},
   "outputs": [],
   "source": [
    "print('Median:',\n",
    "      '\\nHUMAN-MOUSE', np.median(human_mouse),\n",
    "      '\\nHUMAN-CANLF', np.median(human_dog))\n",
    "\n",
    "print('Mean:'\n",
    "      '\\nHUMAN-MOUSE', np.mean(human_mouse),\n",
    "      '\\nHUMAN-CANLF', np.mean(human_dog))"
   ]
  },
  {
   "cell_type": "markdown",
   "metadata": {},
   "source": [
    "The mean distance between HUMAN and CANLF is less than that of HUMAN and MOUSE. This is consistent with previous observations that the rodent has a longer branch than humans and carnivores."
   ]
  }
 ],
 "metadata": {
  "kernelspec": {
   "display_name": "Python 3",
   "language": "python",
   "name": "python3"
  },
  "language_info": {
   "codemirror_mode": {
    "name": "ipython",
    "version": 3
   },
   "file_extension": ".py",
   "mimetype": "text/x-python",
   "name": "python",
   "nbconvert_exporter": "python",
   "pygments_lexer": "ipython3",
   "version": "3.6.7"
  }
 },
 "nbformat": 4,
 "nbformat_minor": 2
}
